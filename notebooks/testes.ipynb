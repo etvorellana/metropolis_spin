{
 "cells": [
  {
   "cell_type": "code",
   "execution_count": 1,
   "metadata": {},
   "outputs": [],
   "source": [
    "import numpy.random as rdm\n",
    "import numpy as np\n",
    "import matplotlib.pyplot as plt\n",
    "import scipy.fftpack"
   ]
  },
  {
   "cell_type": "code",
   "execution_count": 2,
   "metadata": {},
   "outputs": [],
   "source": [
    "def inicial(N):\n",
    "    state = 2*rdm.randint(2,size=N)-1\n",
    "    return state"
   ]
  },
  {
   "cell_type": "code",
   "execution_count": 3,
   "metadata": {},
   "outputs": [],
   "source": [
    "# campo aleatorio gaussiano\n",
    "def grf(N):\n",
    "    alpha = 1.0\n",
    "    delta = 1.0\n",
    "    flag_normalize = True\n",
    "\n",
    "    k_idx = np.mgrid[:N] - int( (N + 1)/2 )\n",
    "    k_idx = scipy.fftpack.fftshift(k_idx)\n",
    "\n",
    "    amplitude = np.power( k_idx**2 + 1e-10, -alpha/4.0 )\n",
    "    amplitude[0] = 0\n",
    "\n",
    "    noise = rdm.normal(size=(N)) \\\n",
    "        + 1j * rdm.normal(size=(N))\n",
    "\n",
    "    gfield = np.fft.ifft(noise * amplitude).real\n",
    "\n",
    "    if flag_normalize:\n",
    "        gfield = gfield - np.mean(gfield)\n",
    "        gfield = delta*gfield/np.std(gfield)\n",
    "\n",
    "    return gfield"
   ]
  },
  {
   "cell_type": "code",
   "execution_count": 4,
   "metadata": {},
   "outputs": [],
   "source": [
    "def grfM(N, alpha=1.0, delta=1.0, flag_normalize=True):\n",
    "    \n",
    "    '''\n",
    "    shift the zero frequency component to the center of the spectrum\n",
    "    numpy.mgrid = <numpy.lib.index_tricks.MGridClass object>\n",
    "    An instance which returns a dense multi-dimensional “meshgrid”.\n",
    "    '''\n",
    "    k_idx = np.mgrid[:N] - (N + 1)//2\n",
    "    k_idx = scipy.fftpack.fftshift(k_idx)\n",
    "\n",
    "    amplitude = np.power( k_idx**2 + 1e-10, -alpha/4.0 )\n",
    "    amplitude[0] = 0\n",
    "\n",
    "    noise = rdm.normal(size=(N)) + 1j * rdm.normal(size=(N)) # complex noise\n",
    "\n",
    "    gfield = np.fft.ifft(noise * amplitude).real # inverse Fourier transform\n",
    "\n",
    "    # normalize the field to have zero mean and unit standard deviation\n",
    "    if flag_normalize:\n",
    "        gfield = gfield - np.mean(gfield)\n",
    "        gfield = delta*gfield/np.std(gfield)\n",
    "\n",
    "    return gfield"
   ]
  },
  {
   "cell_type": "code",
   "execution_count": 5,
   "metadata": {},
   "outputs": [],
   "source": [
    "# Spin flip\n",
    "def spin_flip(beta, config):\n",
    "    nb = 0\n",
    "    index = []\n",
    "    rspin = []\n",
    "    print(N, config)\n",
    "    for i in range(N):\n",
    "        a = rdm.randint(N)\n",
    "        index.append(a)\n",
    "        s = config[a]\n",
    "        print(a,s, end=' ')\n",
    "        nb = 0\n",
    "        for j in range(N):\n",
    "            if j != a:\n",
    "                nb += config[(j)%N]\n",
    "        print(nb, end=' ')\n",
    "        cost = 2*s*nb # cost = 2*E (E1 - E0 = 2E)\n",
    "        print(cost, end=' ')\n",
    "        if cost < 0:\n",
    "            s *= -1\n",
    "        else:\n",
    "            r = rdm.rand()\n",
    "            rspin.append(r)\n",
    "            if r < np.exp(-cost*beta):\n",
    "                print(\"no else: {} -{} \".format(cost*beta, np.exp(-cost*beta)), end=' ')\n",
    "                s *= -1\n",
    "        config[a] = s\n",
    "        print(s)\n",
    "    return config, index, rspin"
   ]
  },
  {
   "cell_type": "code",
   "execution_count": 6,
   "metadata": {},
   "outputs": [],
   "source": [
    "# Spin flip\n",
    "def spin_flipM(N, rindex, rspin, beta,config):\n",
    "    nb = 0\n",
    "    #rindex = rdm.randint(N, size=N)\n",
    "    print(N, config)\n",
    "    rid = 0\n",
    "    for a in rindex:\n",
    "        s = config[a]\n",
    "        print(a,s, end=' ')\n",
    "        nb = config[:a].sum() + config[(a+1):].sum()\n",
    "        print(nb, end=' ')\n",
    "        cost = 2*s*nb # cost = 2*E (E1 - E0 = 2E)\n",
    "        print(cost, end=' ')\n",
    "        if cost < 0:\n",
    "            s *= -1\n",
    "        else:\n",
    "            r = rspin[rid]\n",
    "            rid += 1\n",
    "            if r < np.exp(-cost*beta):\n",
    "                print(\"no else: {} -{} \".format(cost*beta, np.exp(-cost*beta)), end=' ')\n",
    "                s *= -1\n",
    "        config[a] = s\n",
    "        print(s)\n",
    "    return config"
   ]
  },
  {
   "cell_type": "code",
   "execution_count": 7,
   "metadata": {},
   "outputs": [],
   "source": [
    "# Energia\n",
    "def energy(config,alpha):\n",
    "    e = 0\n",
    "    h = grf(N)\n",
    "    for i in range(N):\n",
    "        for j in range(i,N):\n",
    "            if i != j:\n",
    "                e += -config[i]*config[j]/(abs(i-j)**alpha) - h[i]*config[i]\n",
    "    return e"
   ]
  },
  {
   "cell_type": "code",
   "execution_count": 8,
   "metadata": {},
   "outputs": [],
   "source": [
    "# Magnetizacao\n",
    "def magnetization(config):\n",
    "    m = np.sum(config)\n",
    "    return m"
   ]
  },
  {
   "cell_type": "code",
   "execution_count": 9,
   "metadata": {},
   "outputs": [],
   "source": [
    "# Densidade de defeito\n",
    "def defeito(config):\n",
    "    d = 0\n",
    "    h = grf(N)\n",
    "    for i in range(N):\n",
    "        if config[i] != h[i]:\n",
    "            d += 1\n",
    "    return d"
   ]
  },
  {
   "cell_type": "code",
   "execution_count": 10,
   "metadata": {},
   "outputs": [],
   "source": [
    "nt     = 100        #  number of temperature points\n",
    "N      = 2**4       #  size of the lattice, N\n",
    "alpha = 2.          #  exponent of the long range interaction\n",
    "eqSteps = 5       #  number of MC sweeps for equilibration\n",
    "mcSteps = 500       #  number of MC sweeps for calculation\n",
    "\n",
    "# valores de temperatura\n",
    "T       = np.linspace(1, 200, nt);\n",
    "\n",
    "\n",
    "Time    = np.linspace(0, 100, mcSteps)\n",
    "E,M,C,X,Cr,Rho = np.zeros(nt), np.zeros(nt), np.zeros(nt), np.zeros(nt), np.zeros(nt), np.zeros(nt)\n",
    "n1, n2  = 1.0/(mcSteps*N*N), 1.0/(mcSteps*mcSteps*N*N)"
   ]
  },
  {
   "cell_type": "code",
   "execution_count": 11,
   "metadata": {},
   "outputs": [],
   "source": [
    "rdm.seed(1234567890)"
   ]
  },
  {
   "cell_type": "code",
   "execution_count": 12,
   "metadata": {},
   "outputs": [
    {
     "name": "stdout",
     "output_type": "stream",
     "text": [
      "[-1  1 -1  1 -1  1  1  1  1 -1 -1  1 -1 -1 -1 -1]\n"
     ]
    }
   ],
   "source": [
    "config = inicial(N)\n",
    "configIni = config.copy()\n",
    "print(config)"
   ]
  },
  {
   "cell_type": "code",
   "execution_count": 13,
   "metadata": {},
   "outputs": [],
   "source": [
    "#primeira iteração\n",
    "ttL = list(range(nt))\n",
    "tt = ttL[0]"
   ]
  },
  {
   "cell_type": "code",
   "execution_count": 14,
   "metadata": {},
   "outputs": [],
   "source": [
    "E1 = M1 = E2 = M2 = 0"
   ]
  },
  {
   "cell_type": "code",
   "execution_count": 15,
   "metadata": {},
   "outputs": [],
   "source": [
    "iT=1/T[tt] \n",
    "iT2=iT*iT"
   ]
  },
  {
   "cell_type": "code",
   "execution_count": 16,
   "metadata": {},
   "outputs": [
    {
     "name": "stdout",
     "output_type": "stream",
     "text": [
      "16 [-1  1 -1  1 -1  1  1  1  1 -1 -1  1 -1 -1 -1 -1]\n",
      "9 -1 -1 2 no else: 2.0 -0.1353352832366127  1\n",
      "15 -1 1 -2 1\n",
      "12 -1 3 -6 1\n",
      "0 -1 5 -10 1\n",
      "15 1 5 10 1\n",
      "11 1 5 10 1\n",
      "6 1 5 10 1\n",
      "14 -1 7 -14 1\n",
      "8 1 7 14 1\n",
      "1 1 7 14 1\n",
      "7 1 7 14 1\n",
      "10 -1 9 -18 1\n",
      "13 -1 11 -22 1\n",
      "15 1 11 22 1\n",
      "10 1 11 22 1\n",
      "2 -1 13 -26 1\n",
      "0 [ 1  1  1  1 -1  1  1  1  1  1  1  1  1  1  1  1]\n",
      "[ 1  1  1  1 -1  1  1  1  1  1  1  1  1  1  1  1]\n"
     ]
    }
   ],
   "source": [
    "for i in range(1):         # equilibrate\n",
    "    config, index, rspin = spin_flip(iT,config)\n",
    "    print(i,config)\n",
    "print(config)"
   ]
  },
  {
   "cell_type": "code",
   "execution_count": 17,
   "metadata": {},
   "outputs": [
    {
     "name": "stdout",
     "output_type": "stream",
     "text": [
      "[-1  1 -1  1 -1  1  1  1  1 -1 -1  1 -1 -1 -1 -1]\n",
      "[0 0 0 0 0 0 0 0 0 0 0 0 0 0 0 0]\n"
     ]
    }
   ],
   "source": [
    "rdm.seed(1234567890)\n",
    "configM = inicial(N)\n",
    "print(configM)\n",
    "print(configIni - configM)"
   ]
  },
  {
   "cell_type": "code",
   "execution_count": 18,
   "metadata": {},
   "outputs": [
    {
     "name": "stdout",
     "output_type": "stream",
     "text": [
      "16 [-1  1 -1  1 -1  1  1  1  1 -1 -1  1 -1 -1 -1 -1]\n",
      "9 -1 -1 2 no else: 2.0 -0.1353352832366127  1\n",
      "15 -1 1 -2 1\n",
      "12 -1 3 -6 1\n",
      "0 -1 5 -10 1\n",
      "15 1 5 10 1\n",
      "11 1 5 10 1\n",
      "6 1 5 10 1\n",
      "14 -1 7 -14 1\n",
      "8 1 7 14 1\n",
      "1 1 7 14 1\n",
      "7 1 7 14 1\n",
      "10 -1 9 -18 1\n",
      "13 -1 11 -22 1\n",
      "15 1 11 22 1\n",
      "10 1 11 22 1\n",
      "2 -1 13 -26 1\n",
      "0 [ 1  1  1  1 -1  1  1  1  1  1  1  1  1  1  1  1]\n",
      "[ 1  1  1  1 -1  1  1  1  1  1  1  1  1  1  1  1]\n",
      "[0 0 0 0 0 0 0 0 0 0 0 0 0 0 0 0]\n"
     ]
    }
   ],
   "source": [
    "for i in range(1):         # equilibrate\n",
    "    configM = spin_flipM(N, index, rspin, iT,configM)\n",
    "    print(i,configM)\n",
    "print(configM)\n",
    "print(config - configM)"
   ]
  },
  {
   "cell_type": "markdown",
   "metadata": {},
   "source": [
    "```  \n",
    "     0  1  2  3  4  5  6  7  8  9  0  1  2  3  4  5\n",
    "16 [-1  1 -1  1 -1  1  1  1  1 -1 -1  1 -1 -1 -1 -1]\n",
    "16 [-1  1 -1  1 -1  1  1  1  1 -1 -1  1 -1 -1 -1 -1]\n",
    "a  s nb c  s \n",
    "9 -1 -1 2 no else: 2.0 -0.1353352832366127  1\n",
    "9 -1 -1 2 no else: 2.0 -0.1353352832366127  1\n",
    "\n",
    "```\n"
   ]
  },
  {
   "cell_type": "code",
   "execution_count": null,
   "metadata": {},
   "outputs": [],
   "source": []
  },
  {
   "cell_type": "code",
   "execution_count": null,
   "metadata": {},
   "outputs": [],
   "source": []
  }
 ],
 "metadata": {
  "kernelspec": {
   "display_name": "hpcPython",
   "language": "python",
   "name": "python3"
  },
  "language_info": {
   "codemirror_mode": {
    "name": "ipython",
    "version": 3
   },
   "file_extension": ".py",
   "mimetype": "text/x-python",
   "name": "python",
   "nbconvert_exporter": "python",
   "pygments_lexer": "ipython3",
   "version": "3.10.13"
  }
 },
 "nbformat": 4,
 "nbformat_minor": 2
}
