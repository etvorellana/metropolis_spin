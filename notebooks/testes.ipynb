{
 "cells": [
  {
   "cell_type": "code",
   "execution_count": 1,
   "metadata": {},
   "outputs": [],
   "source": [
    "import numpy.random as rdm\n",
    "import numpy as np\n",
    "import matplotlib.pyplot as plt\n",
    "import scipy.fftpack"
   ]
  },
  {
   "cell_type": "code",
   "execution_count": 12,
   "metadata": {},
   "outputs": [
    {
     "name": "stdout",
     "output_type": "stream",
     "text": [
      "[-0.08555741  1.50725632  0.13690646  0.71092869  1.58754484  0.11740764\n",
      "  0.39865512  0.55403766  0.31242014 -1.40851327  0.56541161 -0.13770488\n",
      " -0.43812523  0.00906494 -0.92348248 -0.77102371]\n",
      "0 9 -0.08555740841907816 -1.408513268479845\n",
      "1 6 1.507256318003856 0.39865511590621744\n",
      "2 12 0.1369064554274976 -0.43812522789753267\n",
      "3 3 0.7109286903068494 0.7109286903068494\n",
      "4 13 1.5875448352667094 0.009064939019026023\n",
      "5 14 0.11740764028103239 -0.9234824763632197\n",
      "6 13 0.39865511590621744 0.009064939019026023\n",
      "7 7 0.5540376611321798 0.5540376611321798\n",
      "8 0 0.3124201379297892 -0.08555740841907816\n",
      "9 3 -1.408513268479845 0.7109286903068494\n",
      "10 3 0.5654116090221523 0.7109286903068494\n",
      "11 9 -0.13770487669586776 -1.408513268479845\n",
      "12 12 -0.43812522789753267 -0.43812522789753267\n",
      "13 15 0.009064939019026023 -0.7710237077970107\n",
      "14 3 -0.9234824763632197 0.7109286903068494\n",
      "15 6 -0.7710237077970107 0.39865511590621744\n"
     ]
    }
   ],
   "source": [
    "N = 16\n",
    "config = rdm.normal(size = N)\n",
    "print(config)\n",
    "a = rdm.randint(N, size=N)\n",
    "config_ = config[a]\n",
    "for i in range(N):\n",
    "    print(i, a[i], config[i], config_[i])"
   ]
  },
  {
   "cell_type": "code",
   "execution_count": 17,
   "metadata": {},
   "outputs": [
    {
     "name": "stdout",
     "output_type": "stream",
     "text": [
      "-1.2601480531239997\n",
      "0.39865511590621744\n",
      "-1.6588031690302167\n",
      "-1.6588031690302172\n",
      "16\n"
     ]
    }
   ],
   "source": [
    "print(config_.sum())\n",
    "a = 15\n",
    "print(config_[a])\n",
    "print(config_[:a].sum() + config_[a+1:].sum())\n",
    "print(config_.sum() - config_[a])  \n",
    "print(len(config_))  \n"
   ]
  },
  {
   "cell_type": "code",
   "execution_count": 30,
   "metadata": {},
   "outputs": [
    {
     "name": "stdout",
     "output_type": "stream",
     "text": [
      "[0 1 2 3 4]\n",
      "[[ 0  0  0  0  0]\n",
      " [ 0  1  2  3  4]\n",
      " [ 0  2  4  6  8]\n",
      " [ 0  3  6  9 12]\n",
      " [ 0  4  8 12 16]]\n",
      "[ 0  9 16 21 24]\n",
      "70\n"
     ]
    }
   ],
   "source": [
    "config = np.arange(5)\n",
    "print(config)\n",
    "print(np.outer(config, config))\n",
    "outer = np.outer(config, config)\n",
    "outer = (outer.sum(axis=0) - outer.diagonal())\n",
    "print(outer)\n",
    "print(outer.sum())"
   ]
  },
  {
   "cell_type": "code",
   "execution_count": 38,
   "metadata": {},
   "outputs": [
    {
     "name": "stdout",
     "output_type": "stream",
     "text": [
      "1 2 3 4 5 6 7 \n",
      "1 2 3 4 5 6 \n",
      "1 2 3 4 5 \n",
      "1 2 3 4 \n",
      "1 2 3 \n",
      "1 2 \n",
      "1 \n",
      "\n"
     ]
    }
   ],
   "source": [
    "N = 8\n",
    "for i in range(N):\n",
    "    for j in range(i,N):\n",
    "        if i != j:\n",
    "            print(j-i, end=' ')\n",
    "    print()"
   ]
  },
  {
   "cell_type": "code",
   "execution_count": 39,
   "metadata": {},
   "outputs": [
    {
     "name": "stdout",
     "output_type": "stream",
     "text": [
      "[-0.66538264 -0.90900821  1.14254374 -0.23962994  1.41735136  1.38578713\n",
      " -0.8632493   0.14955149]\n"
     ]
    }
   ],
   "source": [
    "h = np.random.normal(size=8)\n",
    "config = 2*np.random.randint(2, size=8) - 1\n",
    "print(h * config)"
   ]
  }
 ],
 "metadata": {
  "kernelspec": {
   "display_name": "hpcPython",
   "language": "python",
   "name": "python3"
  },
  "language_info": {
   "codemirror_mode": {
    "name": "ipython",
    "version": 3
   },
   "file_extension": ".py",
   "mimetype": "text/x-python",
   "name": "python",
   "nbconvert_exporter": "python",
   "pygments_lexer": "ipython3",
   "version": "3.10.13"
  }
 },
 "nbformat": 4,
 "nbformat_minor": 2
}
